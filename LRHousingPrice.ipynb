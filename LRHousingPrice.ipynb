{
 "cells": [
  {
   "cell_type": "code",
   "execution_count": 12,
   "id": "889e4777",
   "metadata": {},
   "outputs": [],
   "source": [
    "import pandas as pd\n",
    "import numpy as np\n",
    "from sklearn.model_selection import train_test_split\n",
    "from sklearn.linear_model import LinearRegression"
   ]
  },
  {
   "cell_type": "code",
   "execution_count": 20,
   "id": "c1cf9739",
   "metadata": {},
   "outputs": [],
   "source": [
    "USAhousing=pd.read_csv('USA_Housing.csv')\n",
    "#X=USAhousing.iloc[:,:-1]\n",
    "#Y=USAhousing.iloc[:,5]\n",
    "X = USAhousing[['Avg. Area Income', 'Avg. Area House Age', 'Avg. Area Number of Rooms','Avg. Area Number of Bedrooms', 'Area Population']]\n",
    "Y = USAhousing['Price']\n",
    "X_train,X_test,Y_train,Y_test=train_test_split(X,Y,test_size=0.2,random_state=1)"
   ]
  },
  {
   "cell_type": "code",
   "execution_count": 21,
   "id": "e6ca073c",
   "metadata": {},
   "outputs": [
    {
     "name": "stdout",
     "output_type": "stream",
     "text": [
      "92.15935236979045 %\n"
     ]
    }
   ],
   "source": [
    "lm=LinearRegression()\n",
    "lm=lm.fit(X_train,Y_train)\n",
    "predictions=lm.predict(X_test)\n",
    "accuracy=lm.score(X_test,Y_test)\n",
    "print(accuracy*100,'%')"
   ]
  },
  {
   "cell_type": "code",
   "execution_count": null,
   "id": "9594b7d2",
   "metadata": {},
   "outputs": [],
   "source": []
  }
 ],
 "metadata": {
  "kernelspec": {
   "display_name": "Python 3",
   "language": "python",
   "name": "python3"
  },
  "language_info": {
   "codemirror_mode": {
    "name": "ipython",
    "version": 3
   },
   "file_extension": ".py",
   "mimetype": "text/x-python",
   "name": "python",
   "nbconvert_exporter": "python",
   "pygments_lexer": "ipython3",
   "version": "3.8.8"
  }
 },
 "nbformat": 4,
 "nbformat_minor": 5
}
